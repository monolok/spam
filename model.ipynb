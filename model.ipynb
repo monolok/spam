{
 "cells": [
  {
   "cell_type": "code",
   "execution_count": 4,
   "metadata": {},
   "outputs": [],
   "source": [
    "#! pip install spacy"
   ]
  },
  {
   "cell_type": "code",
   "execution_count": 5,
   "metadata": {},
   "outputs": [],
   "source": [
    "#! pip install tensorflow"
   ]
  },
  {
   "cell_type": "code",
   "execution_count": 6,
   "metadata": {},
   "outputs": [],
   "source": [
    "#! python -m spacy download en_core_web_md -q"
   ]
  },
  {
   "cell_type": "code",
   "execution_count": 7,
   "metadata": {},
   "outputs": [
    {
     "name": "stderr",
     "output_type": "stream",
     "text": [
      "2024-03-18 20:03:25.878872: I tensorflow/core/platform/cpu_feature_guard.cc:210] This TensorFlow binary is optimized to use available CPU instructions in performance-critical operations.\n",
      "To enable the following instructions: AVX2 FMA, in other operations, rebuild TensorFlow with the appropriate compiler flags.\n",
      "2024-03-18 20:03:26.811974: W tensorflow/compiler/tf2tensorrt/utils/py_utils.cc:38] TF-TRT Warning: Could not find TensorRT\n"
     ]
    }
   ],
   "source": [
    "import pandas as pd\n",
    "import os\n",
    "import io\n",
    "from sklearn.preprocessing import LabelEncoder\n",
    "import en_core_web_md\n",
    "from spacy.lang.en.stop_words import STOP_WORDS\n",
    "from collections import Counter\n",
    "import re\n",
    "import tensorflow as tf\n",
    "import matplotlib.pyplot as plt\n",
    "from sklearn.model_selection import train_test_split\n",
    "nlp = en_core_web_md.load()"
   ]
  },
  {
   "cell_type": "markdown",
   "metadata": {},
   "source": [
    "# Init"
   ]
  },
  {
   "cell_type": "code",
   "execution_count": 8,
   "metadata": {},
   "outputs": [],
   "source": [
    "df = pd.read_csv('/workspaces/spam/spam.csv', encoding='ISO-8859-1')"
   ]
  },
  {
   "cell_type": "code",
   "execution_count": 9,
   "metadata": {},
   "outputs": [],
   "source": [
    "df.drop(columns=['Unnamed: 2', 'Unnamed: 3', 'Unnamed: 4'], inplace=True)"
   ]
  },
  {
   "cell_type": "code",
   "execution_count": 10,
   "metadata": {},
   "outputs": [],
   "source": [
    "# Initialize the LabelEncoder\n",
    "le = LabelEncoder()\n",
    "# Fit label encoder and return encoded labels\n",
    "encoded_labels = le.fit_transform(df['v1'])\n",
    "df['encoding'] = encoded_labels"
   ]
  },
  {
   "cell_type": "markdown",
   "metadata": {},
   "source": [
    "# Pre-processing"
   ]
  },
  {
   "cell_type": "markdown",
   "metadata": {},
   "source": [
    " * the command `str.isalnum` remove all characters from your strings that are not alphanumeric except for whitespaces, and apostrophies.\n",
    " * using `str.replace`, `str.lower` and `str.strip` replace double whitespaces with single whitespaces, convert all characters to lowercase and trim starting and finishing whitespaces.\n",
    " * using spacy, replace all tokens in your texts with `lemma_` and remove all the stop words."
   ]
  },
  {
   "cell_type": "code",
   "execution_count": 11,
   "metadata": {},
   "outputs": [],
   "source": [
    "def clean_text(text):\n",
    "    # Remove specified characters and symbols\n",
    "    text = re.sub(r\"[.,?!;:*&\\-'/()]\", \"\", text)  # Remove listed characters\n",
    "    text = re.sub(r\"\\b[a-zA-Z]\\b\", \"\", text)  # Remove single letters\n",
    "    text = re.sub(r\"\\s+\", \" \", text)  # Replace multiple spaces with a single space\n",
    "    text = text.lower().strip()\n",
    "    \n",
    "    # Lemmatization and removing stopwords\n",
    "    text = \" \".join([token.lemma_ for token in nlp(text) if (token.lemma_ not in STOP_WORDS) and (token.text not in STOP_WORDS)])\n",
    "    \n",
    "    return text"
   ]
  },
  {
   "cell_type": "code",
   "execution_count": 12,
   "metadata": {},
   "outputs": [],
   "source": [
    "df[\"v2_clean\"] = df[\"v2\"].apply(clean_text)"
   ]
  },
  {
   "cell_type": "markdown",
   "metadata": {},
   "source": [
    "Are all the v2_clean the same type?"
   ]
  },
  {
   "cell_type": "code",
   "execution_count": 13,
   "metadata": {},
   "outputs": [
    {
     "data": {
      "text/plain": [
       "v2_clean\n",
       "True    5572\n",
       "Name: count, dtype: int64"
      ]
     },
     "execution_count": 13,
     "metadata": {},
     "output_type": "execute_result"
    }
   ],
   "source": [
    "mask = df.v2_clean.apply(lambda x: type(x)==str)\n",
    "mask.value_counts()"
   ]
  },
  {
   "cell_type": "markdown",
   "metadata": {},
   "source": [
    "let's check most_common words for more preprocessing and prep for tokenizer steps"
   ]
  },
  {
   "cell_type": "code",
   "execution_count": 14,
   "metadata": {},
   "outputs": [
    {
     "name": "stdout",
     "output_type": "stream",
     "text": [
      "[('2', 480), ('m', 463), ('ur', 380), ('come', 322), ('4', 287), ('know', 283), ('s', 283), ('free', 278), ('ok', 277), ('lt#gt', 276), ('good', 273), ('send', 270), ('like', 252), ('want', 243), ('ill', 237), ('time', 235), ('day', 234), ('\"', 232), ('love', 224), ('text', 214)]\n"
     ]
    }
   ],
   "source": [
    "words = df['v2_clean'].str.lower().str.split(expand=True).stack()\n",
    "\n",
    "# Count words\n",
    "word_count = Counter(words)\n",
    "\n",
    "# Display the most n common words\n",
    "print(word_count.most_common(20))"
   ]
  },
  {
   "cell_type": "code",
   "execution_count": 15,
   "metadata": {},
   "outputs": [],
   "source": [
    "specific_words = {'ur', 'come', 'know', 'm', 's', '2', '4', 'lt#gt', '\"'}\n",
    "\n",
    "# Function to remove specific words from a single text\n",
    "def remove_specific_words(text):\n",
    "    return \" \".join(word for word in text.split() if word not in specific_words)\n",
    "\n",
    "# Apply this function to each text in the 'v2_clean' column\n",
    "df['v2_clean'] = df['v2_clean'].apply(remove_specific_words)\n"
   ]
  },
  {
   "cell_type": "markdown",
   "metadata": {},
   "source": [
    "# Tokenize v2_clean"
   ]
  },
  {
   "cell_type": "code",
   "execution_count": 16,
   "metadata": {},
   "outputs": [],
   "source": [
    "# Collect all words into a single list and then create a set to find unique words\n",
    "unique_words = set(word for message in df.v2_clean for word in message.split())\n",
    "# Calculate the total number of unique words\n",
    "total_unique_words = len(unique_words)"
   ]
  },
  {
   "cell_type": "code",
   "execution_count": 17,
   "metadata": {},
   "outputs": [
    {
     "data": {
      "text/plain": [
       "(41064, 8364)"
      ]
     },
     "execution_count": 17,
     "metadata": {},
     "output_type": "execute_result"
    }
   ],
   "source": [
    "total_words = df.v2_clean.apply(lambda x: len(x.split()))\n",
    "total_words.sum(), total_unique_words"
   ]
  },
  {
   "cell_type": "code",
   "execution_count": 18,
   "metadata": {},
   "outputs": [],
   "source": [
    "tokenizer = tf.keras.preprocessing.text.Tokenizer(num_words=20000, oov_token=\"out_of_vocab\")"
   ]
  },
  {
   "cell_type": "code",
   "execution_count": 19,
   "metadata": {},
   "outputs": [],
   "source": [
    "#create the index for each words\n",
    "tokenizer.fit_on_texts(df['v2_clean'])"
   ]
  },
  {
   "cell_type": "markdown",
   "metadata": {},
   "source": [
    "I am trying to find the best num_words because if set too low some rare words will not be learned by the model"
   ]
  },
  {
   "cell_type": "code",
   "execution_count": 20,
   "metadata": {},
   "outputs": [
    {
     "name": "stdout",
     "output_type": "stream",
     "text": [
      "Number of unique out_of_vocab words: 249\n",
      "Unique out_of_vocab words: {'16+only', '\\\\\\\\', 'ppt150x3+normal', '\\\\speak', 'everything\\\\', '@shesil', '+449071512431', '|', '@warner', '<', 'friendship\\\\', '\\\\miss', 'said\\\\if', '~', 'nytec2a3lpmsg@150p', '\\\\keep', '\\\\symptoms\\\\', '\\\\wylie', '\\\\our', 'initiate\\\\', '\\\\\"gud', 'cave\\\\', 'hello\\\\', 'today\\\\', 'iwas+marinethatåõs', '\\x89û_thanks', '+447797706009', '\\\\gette', '\\\\\"this', 'httpalto18coukwavewaveaspo=44345', ']', '\\\\drink\\\\', 'crore\\\\', 'update_now', 'idiot\\\\', '\\\\response\\\\', '\\\\boost', '\\\\ah', '\\\\yeh', '2=', '\\\\because', '_', 'forever\\\\', '\\\\urgent', 'ukp>2000', '\\\\for', '\\\\goodmorne', '\\\\crazy\\\\', 'week+', 'chrgd@50p', 'late\\\\', '\\\\gran', 'frnds\\\\', '\\\\\"you\\\\', '\\\\gimme', '\\\\woah\\\\', '50\\\\', 'mix\\\\', '>', 'house\\\\', 'customersqueries@netvisionukcom', '\\\\er', '\\\\boo', 'standing|', '88039skilgmetscs087147403231winawkage16+å£150perwksub', '\\\\alrite', '\\\\the', 'info@txt82228couk', '\\\\it', 'silence\\\\', '\\\\kudi\\\\\"yarasu', 'padhegm\\\\', 'xxxxx\\\\', 'msg@å£150rcvd', 'xxx\\\\', 'olowoyey@', '\\\\can', '\\\\life', '\\\\\"enjoy\\\\', '\\\\hello', 'xxxxxxx\\\\', '0a$network', '\\\\find', '\\\\hey', 'meet+greet', '\\\\julianaland\\\\', 'msgs@150p', 'wrk\\\\', 'isaiah=', '\\\\\"how', 'gm+gn+ge+gn', '@', '\\\\go', 'life\\\\', 'day\\\\', '\\\\usf', 'mrng\\\\', 'got\\\\', 'adress\\\\', '\\\\valentines', '\\\\checkmate\\\\', '\\\\suppliers\\\\', 'logos+musicnew', 'it+both', 'nic\\\\', 'hello\\\\you', 'katexxx\\\\', '\\\\hurt', '\\\\alright', '\\\\not', '\\\\song', 'info@ringtonekingcouk', '\\\\sweet\\\\', 'pdate_now', '\\\\are', 'stop\\\\', '#', '\\\\\"drive', 'big|', '\\\\nonenowhere', 'seperated\\x8eö´\\x89ó_\\x8bû¬ud', 'terry\\\\', '\\\\pete', '\\\\power', '$', 'couch\\\\', '%', '\\\\\"she', 'need|', '\\\\wow', 'dorothy@kiefercom', 'love|', 'me\\\\', '\\\\\"with', '\\\\', '3=', '\\\\happy', '\\\\get', 'honi\\\\', '\\\\3000', 'waiting\\\\', 'tddnewsletter@emc1couk', '\\\\\"value', '\\\\cha', '\\\\how', '\\\\polys\\\\', '18+only', 'persons\\\\', '\\\\sleep', 'barbie\\\\', '[', 'later\\\\', 'answer\\\\', 'msg+ticket@kioskvalid', 'don\\\\', 'xxxx\\\\', '\\\\ey', 'week|', 'wwwshortbreaksorguk\\\\', 'charged@150pmsg2', '\\\\\"morning\\\\', '\\\\smokes', '\\\\sicomo', 'doesn\\\\', 'wmlid=820554ad0a1705572711first', '11mths+', '||', 'l8r\\\\', '\\\\petey', 'bedrm$900', 'doesdiscountshitinnit\\\\', '\\\\nver', '\\\\ur', 'chat\\\\', 'it\\\\', 'call2optoutf4q=', '\\\\sometime', '\\\\\"life', '\\\\\"margaret', '\\\\adp\\\\', '\\\\aww', '\\\\hi', 'locaxx\\\\', '\\\\im', '\\\\path', 'few\\\\', '4=', 'forgiveness\\\\', '\\\\dont', 'credit\\\\', 'videosounds+2', 'more\\\\', '\\\\what', 'nite+2', '^', 'monthlysubscription@50pmsg', 'wmlid=1b6a5ecef91ff937819first', 'joy\\\\', '\\\\\"b', 'people\\\\', 'here\\\\', '\\\\divorce', 'stops\\\\', 'recd@thirtyeight', '+', '\\\\\"the', 'yijue@hotmailcom', 'alone\\\\', 'much\\\\', '\\\\mix\\\\', 'drive\\\\', '\\\\me', 'sneham\\\\', '\\\\wen', 'tear\\\\', '31pmsg@150p', '\\\\jeevithathile', '\\\\hello\\\\', '\\\\walk', 'dead\\\\', 'frndship\\\\', '=', 'maat\\\\', '\\\\\"shah', '\\\\shit', '+123', 'moral\\\\dont', 'pple$700', '\\\\\"welcomes\\\\', '\\\\\"oh\\\\', '\\\\\"1u', 'up+not', 'red]text[colour]txtstar', '@kiosk', '\\\\\"our', '\\\\stop', '\\\\oh', 'login=', '\\\\cheer', '\\\\thinke', 'xclusive@clubsaisai', '\\\\hello@drivby0quit', 'energy\\\\', 'ì_ll', 'fine\\\\', 'info@vipclub4u', '5=', 'shit\\\\', '\\\\be'}\n"
     ]
    }
   ],
   "source": [
    "# Tokenizer's learned vocabulary\n",
    "learned_words = set(tokenizer.word_index.keys())\n",
    "\n",
    "# Dataset's vocabulary\n",
    "dataset_words = set(word for text in df['v2_clean'] for word in text.lower().split())\n",
    "\n",
    "# Find the unique OOV words by comparing the two sets\n",
    "unique_oov_words = dataset_words - learned_words\n",
    "\n",
    "print(f\"Number of unique out_of_vocab words: {len(unique_oov_words)}\")\n",
    "print(f\"Unique out_of_vocab words: {unique_oov_words}\")"
   ]
  },
  {
   "cell_type": "code",
   "execution_count": 21,
   "metadata": {},
   "outputs": [],
   "source": [
    "df[\"v2_encoded\"] = tokenizer.texts_to_sequences(df['v2_clean'])"
   ]
  },
  {
   "cell_type": "markdown",
   "metadata": {},
   "source": [
    "# Padding & split (X, y)"
   ]
  },
  {
   "cell_type": "code",
   "execution_count": 22,
   "metadata": {},
   "outputs": [
    {
     "data": {
      "text/html": [
       "<div>\n",
       "<style scoped>\n",
       "    .dataframe tbody tr th:only-of-type {\n",
       "        vertical-align: middle;\n",
       "    }\n",
       "\n",
       "    .dataframe tbody tr th {\n",
       "        vertical-align: top;\n",
       "    }\n",
       "\n",
       "    .dataframe thead th {\n",
       "        text-align: right;\n",
       "    }\n",
       "</style>\n",
       "<table border=\"1\" class=\"dataframe\">\n",
       "  <thead>\n",
       "    <tr style=\"text-align: right;\">\n",
       "      <th></th>\n",
       "      <th>v1</th>\n",
       "      <th>v2</th>\n",
       "      <th>encoding</th>\n",
       "      <th>v2_clean</th>\n",
       "      <th>v2_encoded</th>\n",
       "    </tr>\n",
       "  </thead>\n",
       "  <tbody>\n",
       "    <tr>\n",
       "      <th>0</th>\n",
       "      <td>ham</td>\n",
       "      <td>Go until jurong point, crazy.. Available only ...</td>\n",
       "      <td>0</td>\n",
       "      <td>jurong point crazy available bugis great world...</td>\n",
       "      <td>[3606, 213, 424, 442, 921, 40, 187, 922, 2352,...</td>\n",
       "    </tr>\n",
       "    <tr>\n",
       "      <th>1</th>\n",
       "      <td>ham</td>\n",
       "      <td>Ok lar... Joking wif u oni...</td>\n",
       "      <td>0</td>\n",
       "      <td>ok lar joke wif oni</td>\n",
       "      <td>[3, 177, 443, 270, 1437]</td>\n",
       "    </tr>\n",
       "    <tr>\n",
       "      <th>2</th>\n",
       "      <td>spam</td>\n",
       "      <td>Free entry in 2 a wkly comp to win FA Cup fina...</td>\n",
       "      <td>1</td>\n",
       "      <td>free entry wkly comp win fa cup final tkts 21s...</td>\n",
       "      <td>[2, 283, 510, 642, 22, 1438, 822, 402, 1439, 1...</td>\n",
       "    </tr>\n",
       "    <tr>\n",
       "      <th>3</th>\n",
       "      <td>ham</td>\n",
       "      <td>U dun say so early hor... U c already then say...</td>\n",
       "      <td>0</td>\n",
       "      <td>dun early hor</td>\n",
       "      <td>[109, 132, 2356]</td>\n",
       "    </tr>\n",
       "    <tr>\n",
       "      <th>4</th>\n",
       "      <td>ham</td>\n",
       "      <td>Nah I don't think he goes to usf, he lives aro...</td>\n",
       "      <td>0</td>\n",
       "      <td>nah think usf live</td>\n",
       "      <td>[683, 14, 643, 114]</td>\n",
       "    </tr>\n",
       "  </tbody>\n",
       "</table>\n",
       "</div>"
      ],
      "text/plain": [
       "     v1                                                 v2  encoding  \\\n",
       "0   ham  Go until jurong point, crazy.. Available only ...         0   \n",
       "1   ham                      Ok lar... Joking wif u oni...         0   \n",
       "2  spam  Free entry in 2 a wkly comp to win FA Cup fina...         1   \n",
       "3   ham  U dun say so early hor... U c already then say...         0   \n",
       "4   ham  Nah I don't think he goes to usf, he lives aro...         0   \n",
       "\n",
       "                                            v2_clean  \\\n",
       "0  jurong point crazy available bugis great world...   \n",
       "1                                ok lar joke wif oni   \n",
       "2  free entry wkly comp win fa cup final tkts 21s...   \n",
       "3                                      dun early hor   \n",
       "4                                 nah think usf live   \n",
       "\n",
       "                                          v2_encoded  \n",
       "0  [3606, 213, 424, 442, 921, 40, 187, 922, 2352,...  \n",
       "1                           [3, 177, 443, 270, 1437]  \n",
       "2  [2, 283, 510, 642, 22, 1438, 822, 402, 1439, 1...  \n",
       "3                                   [109, 132, 2356]  \n",
       "4                                [683, 14, 643, 114]  "
      ]
     },
     "execution_count": 22,
     "metadata": {},
     "output_type": "execute_result"
    }
   ],
   "source": [
    "df.head()"
   ]
  },
  {
   "cell_type": "markdown",
   "metadata": {},
   "source": [
    "lets make sure all the v2_encoded have the same lenght"
   ]
  },
  {
   "cell_type": "code",
   "execution_count": 23,
   "metadata": {},
   "outputs": [],
   "source": [
    "X = tf.keras.preprocessing.sequence.pad_sequences(df['v2_encoded'], padding=\"post\")"
   ]
  },
  {
   "cell_type": "code",
   "execution_count": 24,
   "metadata": {},
   "outputs": [],
   "source": [
    "y = df['encoding']"
   ]
  },
  {
   "cell_type": "markdown",
   "metadata": {},
   "source": [
    "we have imbalanced -> stratify"
   ]
  },
  {
   "cell_type": "code",
   "execution_count": 25,
   "metadata": {},
   "outputs": [],
   "source": [
    "x_train, x_val, y_train, y_val = train_test_split(X, y, test_size=0.3, stratify=y)"
   ]
  },
  {
   "cell_type": "markdown",
   "metadata": {},
   "source": [
    "this will help use built in tensorflow method to shuffle and batch for training"
   ]
  },
  {
   "cell_type": "code",
   "execution_count": 26,
   "metadata": {},
   "outputs": [],
   "source": [
    "train = tf.data.Dataset.from_tensor_slices((x_train, y_train))\n",
    "val = tf.data.Dataset.from_tensor_slices((x_val, y_val))"
   ]
  },
  {
   "cell_type": "code",
   "execution_count": 27,
   "metadata": {},
   "outputs": [],
   "source": [
    "train_batch = train.shuffle(len(train)).batch(64)\n",
    "val_batch = val.shuffle(len(val)).batch(64)"
   ]
  },
  {
   "cell_type": "code",
   "execution_count": 28,
   "metadata": {},
   "outputs": [
    {
     "name": "stdout",
     "output_type": "stream",
     "text": [
      "tf.Tensor(\n",
      "[[ 470 1848 1388 ...    0    0    0]\n",
      " [ 332   10  140 ...    0    0    0]\n",
      " [ 100   75 3722 ...    0    0    0]\n",
      " ...\n",
      " [  13  176 3774 ...    0    0    0]\n",
      " [ 169 4059 2594 ...    0    0    0]\n",
      " [  10 2298   15 ...    0    0    0]], shape=(64, 59), dtype=int32) tf.Tensor(\n",
      "[0 0 1 0 0 0 0 0 1 0 0 0 0 0 0 0 0 0 0 0 0 0 0 0 0 0 0 0 0 0 0 0 0 1 0 0 1\n",
      " 1 1 0 0 0 0 0 1 0 0 0 1 0 0 0 0 1 0 0 0 0 1 0 1 0 0 0], shape=(64,), dtype=int64)\n"
     ]
    },
    {
     "name": "stderr",
     "output_type": "stream",
     "text": [
      "2024-03-18 20:03:59.165422: W tensorflow/core/framework/local_rendezvous.cc:404] Local rendezvous is aborting with status: OUT_OF_RANGE: End of sequence\n"
     ]
    }
   ],
   "source": [
    " # Check one batch\n",
    "for X, y in train_batch.take(1):\n",
    "  print(X, y)"
   ]
  },
  {
   "cell_type": "markdown",
   "metadata": {},
   "source": [
    "# model"
   ]
  },
  {
   "cell_type": "code",
   "execution_count": 29,
   "metadata": {},
   "outputs": [
    {
     "data": {
      "text/plain": [
       "20000"
      ]
     },
     "execution_count": 29,
     "metadata": {},
     "output_type": "execute_result"
    }
   ],
   "source": [
    "# this is the number of words set up by my tokenizer\n",
    "num_words = tokenizer.num_words\n",
    "num_words"
   ]
  },
  {
   "cell_type": "code",
   "execution_count": 30,
   "metadata": {},
   "outputs": [
    {
     "data": {
      "text/plain": [
       "59"
      ]
     },
     "execution_count": 30,
     "metadata": {},
     "output_type": "execute_result"
    }
   ],
   "source": [
    "#X = tf.keras.preprocessing.sequence.pad_sequences(df['v2_encoded'], padding=\"post\")\n",
    "input_shape = X.shape[1]\n",
    "input_shape"
   ]
  },
  {
   "cell_type": "code",
   "execution_count": 31,
   "metadata": {},
   "outputs": [
    {
     "name": "stderr",
     "output_type": "stream",
     "text": [
      "/home/codespace/.python/current/lib/python3.10/site-packages/keras/src/layers/core/embedding.py:81: UserWarning: Do not pass an `input_shape`/`input_dim` argument to a layer. When using Sequential models, prefer using an `Input(shape)` object as the first layer in the model instead.\n",
      "  super().__init__(**kwargs)\n"
     ]
    }
   ],
   "source": [
    "model = tf.keras.Sequential([\n",
    "                  tf.keras.layers.Embedding(num_words+1, 16, input_shape=[input_shape,], name=\"embedding\"),\n",
    "                  tf.keras.layers.GlobalAveragePooling1D(),\n",
    "                  tf.keras.layers.Dense(16, activation='relu'),\n",
    "                  tf.keras.layers.Dense(1, activation=\"sigmoid\")\n",
    "])"
   ]
  },
  {
   "cell_type": "code",
   "execution_count": 32,
   "metadata": {},
   "outputs": [
    {
     "data": {
      "text/html": [
       "<pre style=\"white-space:pre;overflow-x:auto;line-height:normal;font-family:Menlo,'DejaVu Sans Mono',consolas,'Courier New',monospace\"><span style=\"font-weight: bold\">Model: \"sequential\"</span>\n",
       "</pre>\n"
      ],
      "text/plain": [
       "\u001b[1mModel: \"sequential\"\u001b[0m\n"
      ]
     },
     "metadata": {},
     "output_type": "display_data"
    },
    {
     "data": {
      "text/html": [
       "<pre style=\"white-space:pre;overflow-x:auto;line-height:normal;font-family:Menlo,'DejaVu Sans Mono',consolas,'Courier New',monospace\">┏━━━━━━━━━━━━━━━━━━━━━━━━━━━━━━━━━┳━━━━━━━━━━━━━━━━━━━━━━━━┳━━━━━━━━━━━━━━━┓\n",
       "┃<span style=\"font-weight: bold\"> Layer (type)                    </span>┃<span style=\"font-weight: bold\"> Output Shape           </span>┃<span style=\"font-weight: bold\">       Param # </span>┃\n",
       "┡━━━━━━━━━━━━━━━━━━━━━━━━━━━━━━━━━╇━━━━━━━━━━━━━━━━━━━━━━━━╇━━━━━━━━━━━━━━━┩\n",
       "│ embedding (<span style=\"color: #0087ff; text-decoration-color: #0087ff\">Embedding</span>)           │ (<span style=\"color: #00d7ff; text-decoration-color: #00d7ff\">None</span>, <span style=\"color: #00af00; text-decoration-color: #00af00\">59</span>, <span style=\"color: #00af00; text-decoration-color: #00af00\">16</span>)         │       <span style=\"color: #00af00; text-decoration-color: #00af00\">320,016</span> │\n",
       "├─────────────────────────────────┼────────────────────────┼───────────────┤\n",
       "│ global_average_pooling1d        │ (<span style=\"color: #00d7ff; text-decoration-color: #00d7ff\">None</span>, <span style=\"color: #00af00; text-decoration-color: #00af00\">16</span>)             │             <span style=\"color: #00af00; text-decoration-color: #00af00\">0</span> │\n",
       "│ (<span style=\"color: #0087ff; text-decoration-color: #0087ff\">GlobalAveragePooling1D</span>)        │                        │               │\n",
       "├─────────────────────────────────┼────────────────────────┼───────────────┤\n",
       "│ dense (<span style=\"color: #0087ff; text-decoration-color: #0087ff\">Dense</span>)                   │ (<span style=\"color: #00d7ff; text-decoration-color: #00d7ff\">None</span>, <span style=\"color: #00af00; text-decoration-color: #00af00\">16</span>)             │           <span style=\"color: #00af00; text-decoration-color: #00af00\">272</span> │\n",
       "├─────────────────────────────────┼────────────────────────┼───────────────┤\n",
       "│ dense_1 (<span style=\"color: #0087ff; text-decoration-color: #0087ff\">Dense</span>)                 │ (<span style=\"color: #00d7ff; text-decoration-color: #00d7ff\">None</span>, <span style=\"color: #00af00; text-decoration-color: #00af00\">1</span>)              │            <span style=\"color: #00af00; text-decoration-color: #00af00\">17</span> │\n",
       "└─────────────────────────────────┴────────────────────────┴───────────────┘\n",
       "</pre>\n"
      ],
      "text/plain": [
       "┏━━━━━━━━━━━━━━━━━━━━━━━━━━━━━━━━━┳━━━━━━━━━━━━━━━━━━━━━━━━┳━━━━━━━━━━━━━━━┓\n",
       "┃\u001b[1m \u001b[0m\u001b[1mLayer (type)                   \u001b[0m\u001b[1m \u001b[0m┃\u001b[1m \u001b[0m\u001b[1mOutput Shape          \u001b[0m\u001b[1m \u001b[0m┃\u001b[1m \u001b[0m\u001b[1m      Param #\u001b[0m\u001b[1m \u001b[0m┃\n",
       "┡━━━━━━━━━━━━━━━━━━━━━━━━━━━━━━━━━╇━━━━━━━━━━━━━━━━━━━━━━━━╇━━━━━━━━━━━━━━━┩\n",
       "│ embedding (\u001b[38;5;33mEmbedding\u001b[0m)           │ (\u001b[38;5;45mNone\u001b[0m, \u001b[38;5;34m59\u001b[0m, \u001b[38;5;34m16\u001b[0m)         │       \u001b[38;5;34m320,016\u001b[0m │\n",
       "├─────────────────────────────────┼────────────────────────┼───────────────┤\n",
       "│ global_average_pooling1d        │ (\u001b[38;5;45mNone\u001b[0m, \u001b[38;5;34m16\u001b[0m)             │             \u001b[38;5;34m0\u001b[0m │\n",
       "│ (\u001b[38;5;33mGlobalAveragePooling1D\u001b[0m)        │                        │               │\n",
       "├─────────────────────────────────┼────────────────────────┼───────────────┤\n",
       "│ dense (\u001b[38;5;33mDense\u001b[0m)                   │ (\u001b[38;5;45mNone\u001b[0m, \u001b[38;5;34m16\u001b[0m)             │           \u001b[38;5;34m272\u001b[0m │\n",
       "├─────────────────────────────────┼────────────────────────┼───────────────┤\n",
       "│ dense_1 (\u001b[38;5;33mDense\u001b[0m)                 │ (\u001b[38;5;45mNone\u001b[0m, \u001b[38;5;34m1\u001b[0m)              │            \u001b[38;5;34m17\u001b[0m │\n",
       "└─────────────────────────────────┴────────────────────────┴───────────────┘\n"
      ]
     },
     "metadata": {},
     "output_type": "display_data"
    },
    {
     "data": {
      "text/html": [
       "<pre style=\"white-space:pre;overflow-x:auto;line-height:normal;font-family:Menlo,'DejaVu Sans Mono',consolas,'Courier New',monospace\"><span style=\"font-weight: bold\"> Total params: </span><span style=\"color: #00af00; text-decoration-color: #00af00\">320,305</span> (1.22 MB)\n",
       "</pre>\n"
      ],
      "text/plain": [
       "\u001b[1m Total params: \u001b[0m\u001b[38;5;34m320,305\u001b[0m (1.22 MB)\n"
      ]
     },
     "metadata": {},
     "output_type": "display_data"
    },
    {
     "data": {
      "text/html": [
       "<pre style=\"white-space:pre;overflow-x:auto;line-height:normal;font-family:Menlo,'DejaVu Sans Mono',consolas,'Courier New',monospace\"><span style=\"font-weight: bold\"> Trainable params: </span><span style=\"color: #00af00; text-decoration-color: #00af00\">320,305</span> (1.22 MB)\n",
       "</pre>\n"
      ],
      "text/plain": [
       "\u001b[1m Trainable params: \u001b[0m\u001b[38;5;34m320,305\u001b[0m (1.22 MB)\n"
      ]
     },
     "metadata": {},
     "output_type": "display_data"
    },
    {
     "data": {
      "text/html": [
       "<pre style=\"white-space:pre;overflow-x:auto;line-height:normal;font-family:Menlo,'DejaVu Sans Mono',consolas,'Courier New',monospace\"><span style=\"font-weight: bold\"> Non-trainable params: </span><span style=\"color: #00af00; text-decoration-color: #00af00\">0</span> (0.00 B)\n",
       "</pre>\n"
      ],
      "text/plain": [
       "\u001b[1m Non-trainable params: \u001b[0m\u001b[38;5;34m0\u001b[0m (0.00 B)\n"
      ]
     },
     "metadata": {},
     "output_type": "display_data"
    }
   ],
   "source": [
    "model.summary()"
   ]
  },
  {
   "cell_type": "markdown",
   "metadata": {},
   "source": [
    "# Train"
   ]
  },
  {
   "cell_type": "code",
   "execution_count": 33,
   "metadata": {},
   "outputs": [],
   "source": [
    "optimizer= tf.keras.optimizers.Adam()\n",
    "model.compile(optimizer=optimizer,\n",
    "              loss=tf.keras.losses.BinaryCrossentropy(),\n",
    "              metrics=['accuracy', \n",
    "                       tf.keras.metrics.Precision(), \n",
    "                       tf.keras.metrics.Recall()])"
   ]
  },
  {
   "cell_type": "code",
   "execution_count": 34,
   "metadata": {},
   "outputs": [
    {
     "name": "stdout",
     "output_type": "stream",
     "text": [
      "Epoch 1/20\n"
     ]
    },
    {
     "name": "stdout",
     "output_type": "stream",
     "text": [
      "\u001b[1m61/61\u001b[0m \u001b[32m━━━━━━━━━━━━━━━━━━━━\u001b[0m\u001b[37m\u001b[0m \u001b[1m1s\u001b[0m 6ms/step - accuracy: 0.8094 - loss: 0.4662 - precision: 0.1562 - recall: 0.0819 - val_accuracy: 0.8660 - val_loss: 0.3660 - val_precision: 0.0000e+00 - val_recall: 0.0000e+00\n",
      "Epoch 2/20\n",
      "\u001b[1m61/61\u001b[0m \u001b[32m━━━━━━━━━━━━━━━━━━━━\u001b[0m\u001b[37m\u001b[0m \u001b[1m0s\u001b[0m 2ms/step - accuracy: 0.8632 - loss: 0.3637 - precision: 0.0000e+00 - recall: 0.0000e+00 - val_accuracy: 0.8660 - val_loss: 0.3470 - val_precision: 0.0000e+00 - val_recall: 0.0000e+00\n",
      "Epoch 3/20\n",
      "\u001b[1m61/61\u001b[0m \u001b[32m━━━━━━━━━━━━━━━━━━━━\u001b[0m\u001b[37m\u001b[0m \u001b[1m0s\u001b[0m 2ms/step - accuracy: 0.8752 - loss: 0.3369 - precision: 0.0000e+00 - recall: 0.0000e+00 - val_accuracy: 0.8660 - val_loss: 0.3499 - val_precision: 0.0000e+00 - val_recall: 0.0000e+00\n",
      "Epoch 4/20\n",
      "\u001b[1m61/61\u001b[0m \u001b[32m━━━━━━━━━━━━━━━━━━━━\u001b[0m\u001b[37m\u001b[0m \u001b[1m0s\u001b[0m 2ms/step - accuracy: 0.8609 - loss: 0.3578 - precision: 0.0000e+00 - recall: 0.0000e+00 - val_accuracy: 0.8660 - val_loss: 0.3470 - val_precision: 0.0000e+00 - val_recall: 0.0000e+00\n",
      "Epoch 5/20\n",
      "\u001b[1m61/61\u001b[0m \u001b[32m━━━━━━━━━━━━━━━━━━━━\u001b[0m\u001b[37m\u001b[0m \u001b[1m0s\u001b[0m 2ms/step - accuracy: 0.8659 - loss: 0.3430 - precision: 0.0000e+00 - recall: 0.0000e+00 - val_accuracy: 0.8654 - val_loss: 0.3336 - val_precision: 0.0000e+00 - val_recall: 0.0000e+00\n",
      "Epoch 6/20\n",
      "\u001b[1m61/61\u001b[0m \u001b[32m━━━━━━━━━━━━━━━━━━━━\u001b[0m\u001b[37m\u001b[0m \u001b[1m0s\u001b[0m 2ms/step - accuracy: 0.8705 - loss: 0.3297 - precision: 0.0000e+00 - recall: 0.0000e+00 - val_accuracy: 0.8654 - val_loss: 0.3265 - val_precision: 0.0000e+00 - val_recall: 0.0000e+00\n",
      "Epoch 7/20\n",
      "\u001b[1m61/61\u001b[0m \u001b[32m━━━━━━━━━━━━━━━━━━━━\u001b[0m\u001b[37m\u001b[0m \u001b[1m0s\u001b[0m 2ms/step - accuracy: 0.8656 - loss: 0.3302 - precision: 0.0000e+00 - recall: 0.0000e+00 - val_accuracy: 0.8654 - val_loss: 0.3219 - val_precision: 0.0000e+00 - val_recall: 0.0000e+00\n",
      "Epoch 8/20\n",
      "\u001b[1m61/61\u001b[0m \u001b[32m━━━━━━━━━━━━━━━━━━━━\u001b[0m\u001b[37m\u001b[0m \u001b[1m0s\u001b[0m 2ms/step - accuracy: 0.8665 - loss: 0.3095 - precision: 0.0000e+00 - recall: 0.0000e+00 - val_accuracy: 0.8654 - val_loss: 0.2987 - val_precision: 0.0000e+00 - val_recall: 0.0000e+00\n",
      "Epoch 9/20\n",
      "\u001b[1m61/61\u001b[0m \u001b[32m━━━━━━━━━━━━━━━━━━━━\u001b[0m\u001b[37m\u001b[0m \u001b[1m0s\u001b[0m 2ms/step - accuracy: 0.8633 - loss: 0.2854 - precision: 0.1995 - recall: 0.0014 - val_accuracy: 0.8702 - val_loss: 0.2587 - val_precision: 1.0000 - val_recall: 0.0312\n",
      "Epoch 10/20\n",
      "\u001b[1m61/61\u001b[0m \u001b[32m━━━━━━━━━━━━━━━━━━━━\u001b[0m\u001b[37m\u001b[0m \u001b[1m0s\u001b[0m 2ms/step - accuracy: 0.8910 - loss: 0.2248 - precision: 1.0000 - recall: 0.1248 - val_accuracy: 0.9127 - val_loss: 0.2036 - val_precision: 1.0000 - val_recall: 0.3482\n",
      "Epoch 11/20\n",
      "\u001b[1m61/61\u001b[0m \u001b[32m━━━━━━━━━━━━━━━━━━━━\u001b[0m\u001b[37m\u001b[0m \u001b[1m0s\u001b[0m 2ms/step - accuracy: 0.9324 - loss: 0.1746 - precision: 1.0000 - recall: 0.5051 - val_accuracy: 0.9396 - val_loss: 0.1656 - val_precision: 1.0000 - val_recall: 0.5491\n",
      "Epoch 12/20\n",
      "\u001b[1m61/61\u001b[0m \u001b[32m━━━━━━━━━━━━━━━━━━━━\u001b[0m\u001b[37m\u001b[0m \u001b[1m0s\u001b[0m 2ms/step - accuracy: 0.9637 - loss: 0.1159 - precision: 1.0000 - recall: 0.7133 - val_accuracy: 0.9719 - val_loss: 0.1193 - val_precision: 1.0000 - val_recall: 0.7902\n",
      "Epoch 13/20\n",
      "\u001b[1m61/61\u001b[0m \u001b[32m━━━━━━━━━━━━━━━━━━━━\u001b[0m\u001b[37m\u001b[0m \u001b[1m0s\u001b[0m 2ms/step - accuracy: 0.9721 - loss: 0.0900 - precision: 1.0000 - recall: 0.7783 - val_accuracy: 0.9695 - val_loss: 0.1003 - val_precision: 1.0000 - val_recall: 0.7723\n",
      "Epoch 14/20\n",
      "\u001b[1m61/61\u001b[0m \u001b[32m━━━━━━━━━━━━━━━━━━━━\u001b[0m\u001b[37m\u001b[0m \u001b[1m0s\u001b[0m 2ms/step - accuracy: 0.9797 - loss: 0.0705 - precision: 0.9949 - recall: 0.8575 - val_accuracy: 0.9713 - val_loss: 0.0938 - val_precision: 1.0000 - val_recall: 0.7857\n",
      "Epoch 15/20\n",
      "\u001b[1m61/61\u001b[0m \u001b[32m━━━━━━━━━━━━━━━━━━━━\u001b[0m\u001b[37m\u001b[0m \u001b[1m0s\u001b[0m 2ms/step - accuracy: 0.9838 - loss: 0.0540 - precision: 0.9982 - recall: 0.8804 - val_accuracy: 0.9731 - val_loss: 0.0836 - val_precision: 1.0000 - val_recall: 0.7991\n",
      "Epoch 16/20\n",
      "\u001b[1m61/61\u001b[0m \u001b[32m━━━━━━━━━━━━━━━━━━━━\u001b[0m\u001b[37m\u001b[0m \u001b[1m0s\u001b[0m 2ms/step - accuracy: 0.9840 - loss: 0.0495 - precision: 0.9946 - recall: 0.8846 - val_accuracy: 0.9773 - val_loss: 0.0730 - val_precision: 1.0000 - val_recall: 0.8304\n",
      "Epoch 17/20\n",
      "\u001b[1m61/61\u001b[0m \u001b[32m━━━━━━━━━━━━━━━━━━━━\u001b[0m\u001b[37m\u001b[0m \u001b[1m0s\u001b[0m 2ms/step - accuracy: 0.9884 - loss: 0.0438 - precision: 0.9987 - recall: 0.9194 - val_accuracy: 0.9749 - val_loss: 0.0763 - val_precision: 1.0000 - val_recall: 0.8125\n",
      "Epoch 18/20\n",
      "\u001b[1m61/61\u001b[0m \u001b[32m━━━━━━━━━━━━━━━━━━━━\u001b[0m\u001b[37m\u001b[0m \u001b[1m0s\u001b[0m 2ms/step - accuracy: 0.9885 - loss: 0.0385 - precision: 0.9959 - recall: 0.9169 - val_accuracy: 0.9767 - val_loss: 0.0708 - val_precision: 1.0000 - val_recall: 0.8259\n",
      "Epoch 19/20\n",
      "\u001b[1m61/61\u001b[0m \u001b[32m━━━━━━━━━━━━━━━━━━━━\u001b[0m\u001b[37m\u001b[0m \u001b[1m0s\u001b[0m 2ms/step - accuracy: 0.9910 - loss: 0.0332 - precision: 0.9974 - recall: 0.9359 - val_accuracy: 0.9791 - val_loss: 0.0641 - val_precision: 0.9948 - val_recall: 0.8482\n",
      "Epoch 20/20\n",
      "\u001b[1m61/61\u001b[0m \u001b[32m━━━━━━━━━━━━━━━━━━━━\u001b[0m\u001b[37m\u001b[0m \u001b[1m0s\u001b[0m 2ms/step - accuracy: 0.9917 - loss: 0.0289 - precision: 0.9949 - recall: 0.9458 - val_accuracy: 0.9767 - val_loss: 0.0706 - val_precision: 1.0000 - val_recall: 0.8259\n"
     ]
    }
   ],
   "source": [
    "history = model.fit(train_batch, \n",
    "                    epochs=20,\n",
    "                    validation_data=val_batch)"
   ]
  },
  {
   "cell_type": "markdown",
   "metadata": {},
   "source": [
    "# Save DF, Model & Tokenizer"
   ]
  },
  {
   "cell_type": "code",
   "execution_count": 39,
   "metadata": {},
   "outputs": [],
   "source": [
    "#df.to_csv('/workspaces/spam/df.csv', index=False)"
   ]
  },
  {
   "cell_type": "code",
   "execution_count": 37,
   "metadata": {},
   "outputs": [],
   "source": [
    "# Save your trained model\n",
    "#model.save('16D_20epochs.keras')"
   ]
  },
  {
   "cell_type": "code",
   "execution_count": 40,
   "metadata": {},
   "outputs": [],
   "source": [
    "# import pickle\n",
    "# with open('/workspaces/spam/tokenizer.pickle', 'wb') as handle:\n",
    "#     pickle.dump(tokenizer, handle, protocol=pickle.HIGHEST_PROTOCOL)"
   ]
  },
  {
   "cell_type": "markdown",
   "metadata": {},
   "source": [
    "# Plot eval"
   ]
  },
  {
   "cell_type": "code",
   "execution_count": 36,
   "metadata": {},
   "outputs": [
    {
     "data": {
      "image/png": "[encoded data removed]",
      "text/plain": [
       "<Figure size 640x480 with 1 Axes>"
      ]
     },
     "metadata": {},
     "output_type": "display_data"
    }
   ],
   "source": [
    "# Visualization of the training process on the loss function\n",
    "plt.plot(history.history[\"loss\"], color=\"b\", label=\"Training loss\")\n",
    "plt.plot(history.history[\"val_loss\"], color=\"r\", label=\"Validation loss\")\n",
    "plt.ylabel(\"Loss\")\n",
    "plt.xlabel(\"Epochs\")\n",
    "plt.legend(loc=\"best\")\n",
    "plt.show()"
   ]
  },
  {
   "cell_type": "markdown",
   "metadata": {},
   "source": [
    "# Embeddings projector for our custom tokenizer"
   ]
  },
  {
   "cell_type": "code",
   "execution_count": null,
   "metadata": {},
   "outputs": [],
   "source": [
    "vocab = [value for value in tokenizer.index_word.values()]\n",
    "vocab = vocab[:1000]\n",
    "weights = model.get_layer('embedding').get_weights()[0]\n",
    "\n",
    "log_dir = \"/workspaces/spam\"\n",
    "os.makedirs(log_dir, exist_ok=True)\n",
    "out_v = io.open(log_dir+\"/vectors.tsv\", 'w', encoding='utf-8')\n",
    "out_m = io.open(log_dir+\"/metadata.tsv\", 'w', encoding='utf-8')\n",
    "\n",
    "for index, word in enumerate(vocab):\n",
    "  if index == 0:\n",
    "    continue  # skip 0, it's padding.\n",
    "  vec = weights[index]\n",
    "  out_v.write('\\t'.join([str(x) for x in vec]) + \"\\n\")\n",
    "  out_m.write(word + \"\\n\")\n",
    "out_v.close()\n",
    "out_m.close()"
   ]
  }
 ],
 "metadata": {
  "kernelspec": {
   "display_name": "base",
   "language": "python",
   "name": "python3"
  },
  "language_info": {
   "codemirror_mode": {
    "name": "ipython",
    "version": 3
   },
   "file_extension": ".py",
   "mimetype": "text/x-python",
   "name": "python",
   "nbconvert_exporter": "python",
   "pygments_lexer": "ipython3",
   "version": "3.11.7"
  }
 },
 "nbformat": 4,
 "nbformat_minor": 2
}
